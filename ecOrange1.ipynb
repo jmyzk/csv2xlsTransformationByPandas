{
  "nbformat": 4,
  "nbformat_minor": 0,
  "metadata": {
    "colab": {
      "name": "ecOrange1.ipynb",
      "provenance": [],
      "collapsed_sections": [],
      "toc_visible": true,
      "mount_file_id": "1QZSVoLiTSkbBwyMpRQx5FyxeCE9jF98m",
      "authorship_tag": "ABX9TyPoNJ1oPlc/fS6GsyNUpJMD",
      "include_colab_link": true
    },
    "kernelspec": {
      "name": "python3",
      "display_name": "Python 3"
    }
  },
  "cells": [
    {
      "cell_type": "markdown",
      "metadata": {
        "id": "view-in-github",
        "colab_type": "text"
      },
      "source": [
        "<a href=\"https://colab.research.google.com/github/jmyzk/csv2xlsTransformationByPandas/blob/master/ecOrange1.ipynb\" target=\"_parent\"><img src=\"https://colab.research.google.com/assets/colab-badge.svg\" alt=\"Open In Colab\"/></a>"
      ]
    },
    {
      "cell_type": "markdown",
      "metadata": {
        "id": "QfMJ9JY-uDML",
        "colab_type": "text"
      },
      "source": [
        "### ECサイト受注情報.xlsx & EC Orange 受注情報 csvの取り込み"
      ]
    },
    {
      "cell_type": "code",
      "metadata": {
        "id": "S-eRsdtFutrJ",
        "colab_type": "code",
        "colab": {}
      },
      "source": [
        "import pandas as pd\n",
        "import numpy as np\n",
        "import datetime"
      ],
      "execution_count": 0,
      "outputs": []
    },
    {
      "cell_type": "code",
      "metadata": {
        "id": "6TX993Kftegq",
        "colab_type": "code",
        "colab": {}
      },
      "source": [
        "csvPath = \"/content/drive/My Drive/ec orange/【ECオレンジからの注文情報ダウンロードCSV】20200415134816order.csv\"\n",
        "xlsxPath = \"/content/drive/My Drive/ec orange/ECサイト 受注情報_自動化検証用.xlsx\"\n",
        "xlsxPath1 = \"/content/drive/My Drive/ec orange/\""
      ],
      "execution_count": 0,
      "outputs": []
    },
    {
      "cell_type": "code",
      "metadata": {
        "id": "ZsZ17Vdl-kEn",
        "colab_type": "code",
        "colab": {}
      },
      "source": [
        "oldCsv = pd.read_csv(csvPath,engine=\"python\",encoding=\"Shift-JIS\")"
      ],
      "execution_count": 0,
      "outputs": []
    },
    {
      "cell_type": "code",
      "metadata": {
        "id": "r0fckBydxSNX",
        "colab_type": "code",
        "colab": {}
      },
      "source": [
        "prefec ={\"1\" : \"北海道\",\n",
        "\"2\" : \"青森県\",\n",
        "\"3\" : \"岩手県\",\n",
        "\"4\" : \"宮城県\",\n",
        "\"5\" : \"秋田県\",\n",
        "\"6\" : \"山形県\",\n",
        "\"7\" : \"福島県\",\n",
        "\"8\" : \"茨城県\",\n",
        "\"9\" : \"栃木県\",\n",
        "\"10\" : \"群馬県\",\n",
        "\"11\" : \"埼玉県\",\n",
        "\"12\" : \"千葉県\",\n",
        "\"13\" : \"東京都\",\n",
        "\"14\" : \"神奈川県\",\n",
        "\"15\" : \"新潟県\",\n",
        "\"16\" : \"富山県\",\n",
        "\"17\" : \"石川県\",\n",
        "\"18\" : \"福井県\",\n",
        "\"19\" : \"山梨県\",\n",
        "\"20\" : \"長野県\",\n",
        "\"21\" : \"岐阜県\",\n",
        "\"22\" : \"静岡県\",\n",
        "\"23\" : \"愛知県\",\n",
        "\"24\" : \"三重県\",\n",
        "\"25\" : \"滋賀県\",\n",
        "\"26\" : \"京都府\",\n",
        "\"27\" : \"大阪府\",\n",
        "\"28\" : \"兵庫県\",\n",
        "\"29\" : \"奈良県\",\n",
        "\"30\" : \"和歌山県\",\n",
        "\"31\" : \"鳥取県\",\n",
        "\"32\" : \"島根県\",\n",
        "\"33\" : \"岡山県\",\n",
        "\"34\" : \"広島県\",\n",
        "\"35\" : \"山口県\",\n",
        "\"36\" : \"徳島県\",\n",
        "\"37\" : \"香川県\",\n",
        "\"38\" : \"愛媛県\",\n",
        "\"39\" : \"高知県\",\n",
        "\"40\" : \"福岡県\",\n",
        "\"41\" : \"佐賀県\",\n",
        "\"42\" : \"長崎県\",\n",
        "\"43\" : \"熊本県\",\n",
        "\"44\" : \"大分県\",\n",
        "\"45\" : \"宮崎県\",\n",
        "\"46\" : \"鹿児島県\",\n",
        "\"47\" : \"沖縄県\"}"
      ],
      "execution_count": 0,
      "outputs": []
    },
    {
      "cell_type": "code",
      "metadata": {
        "id": "A9vMZejP-YFp",
        "colab_type": "code",
        "colab": {}
      },
      "source": [
        "oldCsv['order_shipping_fullname']=oldCsv['order_shipping_last_name']+\" \"+oldCsv['order_shipping_first_name']\n",
        "oldCsv['order_shipping_fullname_kana']=oldCsv['order_customer_last_name_kana']+\" \"+oldCsv['order_customer_first_name_kana']\n",
        "oldCsv['order_shipping_zip00']=oldCsv['order_shipping_zip01'].map(str).apply(lambda x: x.zfill(3)) + \"-\" + oldCsv['order_shipping_zip02'].map(str).apply(lambda x: x.zfill(4))\n",
        "oldCsv['order_shipping_address']=oldCsv['order_shipping_pref'].map(str).apply(lambda x: prefec[x])+oldCsv['order_shipping_city']\n",
        "oldCsv['order_shipping_address']=oldCsv['order_shipping_pref'].map(str).apply(lambda x: prefec[x])+oldCsv['order_shipping_city']\n",
        "oldCsv['order_customer_tel00']=\"0\" + oldCsv['order_customer_tel01'].map(str) + \"-\" + oldCsv['order_customer_tel02'].map(str)+ \"-\" + oldCsv['order_customer_tel03'].map(str)\n",
        "oldCsv['order_customer_fax00']= np.NaN\n",
        "oldCsv['order_id'] = oldCsv['order_id'].map(str).apply(lambda x: x.zfill(16))\n",
        "oldCsv['n-pos_customer_id']=900160000 + +oldCsv['customer_id']\n"
      ],
      "execution_count": 0,
      "outputs": []
    },
    {
      "cell_type": "code",
      "metadata": {
        "id": "mK2xLqPY-vZV",
        "colab_type": "code",
        "colab": {}
      },
      "source": [
        "newColumns = ['order_contracted_at','order_finalized_at','order_shipping_fullname','order_shipping_fullname_kana','order_payment_method','order_item_sales_price_taxed', \n",
        "              'order_customer_locality','order_customer_other','order_shipping_zip00','order_shipping_address',\n",
        "              'order_customer_tel00','order_customer_fax00' ,'order_customer_email','customer_id','order_id','n-pos_customer_id']"
      ],
      "execution_count": 0,
      "outputs": []
    },
    {
      "cell_type": "code",
      "metadata": {
        "id": "Idf0ZNPA4KcV",
        "colab_type": "code",
        "colab": {}
      },
      "source": [
        "newColumnsJ = [\"受付日\",\"売上確定日時\",\"名前\",\"名前フリガナ\",\"支払方法名\",\"合計金額（税込み）\",\n",
        "               \"会社名・個人購入名\",\"局名・所属部署\",\"郵便番号\",\"住所\",\n",
        "               \"電話番号\",\"FAX\",\"メールアドレス\",\"customer id\",\"order id\",\"得意先コード\"]"
      ],
      "execution_count": 0,
      "outputs": []
    },
    {
      "cell_type": "code",
      "metadata": {
        "id": "NV_j4MVE7x6X",
        "colab_type": "code",
        "outputId": "5c407d2d-b000-4347-e303-2f85ce09acab",
        "colab": {
          "base_uri": "https://localhost:8080/",
          "height": 178
        }
      },
      "source": [
        "newCsv = oldCsv[newColumns]\n",
        "newCsv.head()"
      ],
      "execution_count": 9,
      "outputs": [
        {
          "output_type": "execute_result",
          "data": {
            "text/html": [
              "<div>\n",
              "<style scoped>\n",
              "    .dataframe tbody tr th:only-of-type {\n",
              "        vertical-align: middle;\n",
              "    }\n",
              "\n",
              "    .dataframe tbody tr th {\n",
              "        vertical-align: top;\n",
              "    }\n",
              "\n",
              "    .dataframe thead th {\n",
              "        text-align: right;\n",
              "    }\n",
              "</style>\n",
              "<table border=\"1\" class=\"dataframe\">\n",
              "  <thead>\n",
              "    <tr style=\"text-align: right;\">\n",
              "      <th></th>\n",
              "      <th>order_contracted_at</th>\n",
              "      <th>order_finalized_at</th>\n",
              "      <th>order_shipping_fullname</th>\n",
              "      <th>order_shipping_fullname_kana</th>\n",
              "      <th>order_payment_method</th>\n",
              "      <th>order_item_sales_price_taxed</th>\n",
              "      <th>order_customer_locality</th>\n",
              "      <th>order_customer_other</th>\n",
              "      <th>order_shipping_zip00</th>\n",
              "      <th>order_shipping_address</th>\n",
              "      <th>order_customer_tel00</th>\n",
              "      <th>order_customer_fax00</th>\n",
              "      <th>order_customer_email</th>\n",
              "      <th>customer_id</th>\n",
              "      <th>order_id</th>\n",
              "      <th>n-pos_customer_id</th>\n",
              "    </tr>\n",
              "  </thead>\n",
              "  <tbody>\n",
              "    <tr>\n",
              "      <th>0</th>\n",
              "      <td>2020/4/1 10:14</td>\n",
              "      <td>2020/4/2 0:00</td>\n",
              "      <td>宮崎 順一郎</td>\n",
              "      <td>ミヤザキ ジュンイチロウ</td>\n",
              "      <td>クレジットカード</td>\n",
              "      <td>3630</td>\n",
              "      <td>日本郵便オフィスサポート(株)　本社</td>\n",
              "      <td>経営企画本部</td>\n",
              "      <td>105-0012</td>\n",
              "      <td>東京都港区芝大門2-2-11</td>\n",
              "      <td>090-7817-4379</td>\n",
              "      <td>NaN</td>\n",
              "      <td>jmiyazaki@jpos.jp</td>\n",
              "      <td>10</td>\n",
              "      <td>0000000000000049</td>\n",
              "      <td>900160010</td>\n",
              "    </tr>\n",
              "    <tr>\n",
              "      <th>1</th>\n",
              "      <td>2020/4/1 10:51</td>\n",
              "      <td>2020/4/2 0:00</td>\n",
              "      <td>宮崎 順一郎</td>\n",
              "      <td>ミヤザキ ジュンイチロウ</td>\n",
              "      <td>ゆうちょ振替</td>\n",
              "      <td>1419</td>\n",
              "      <td>日本郵便オフィスサポート(株)　本社</td>\n",
              "      <td>経営企画本部</td>\n",
              "      <td>105-0012</td>\n",
              "      <td>東京都港区芝大門2-2-11</td>\n",
              "      <td>090-7817-4379</td>\n",
              "      <td>NaN</td>\n",
              "      <td>jmiyazaki@jpos.jp</td>\n",
              "      <td>10</td>\n",
              "      <td>0000000000000053</td>\n",
              "      <td>900160010</td>\n",
              "    </tr>\n",
              "  </tbody>\n",
              "</table>\n",
              "</div>"
            ],
            "text/plain": [
              "  order_contracted_at order_finalized_at  ...          order_id n-pos_customer_id\n",
              "0      2020/4/1 10:14      2020/4/2 0:00  ...  0000000000000049         900160010\n",
              "1      2020/4/1 10:51      2020/4/2 0:00  ...  0000000000000053         900160010\n",
              "\n",
              "[2 rows x 16 columns]"
            ]
          },
          "metadata": {
            "tags": []
          },
          "execution_count": 9
        }
      ]
    },
    {
      "cell_type": "code",
      "metadata": {
        "id": "BXKcMpc06HjE",
        "colab_type": "code",
        "colab": {}
      },
      "source": [
        "newCsv.columns = newColumnsJ"
      ],
      "execution_count": 0,
      "outputs": []
    },
    {
      "cell_type": "code",
      "metadata": {
        "id": "zoG1MLck9JMe",
        "colab_type": "code",
        "outputId": "55aafd9f-fc4d-4111-c728-3278988cbde3",
        "colab": {
          "base_uri": "https://localhost:8080/",
          "height": 158
        }
      },
      "source": [
        "newCsv.head()"
      ],
      "execution_count": 11,
      "outputs": [
        {
          "output_type": "execute_result",
          "data": {
            "text/html": [
              "<div>\n",
              "<style scoped>\n",
              "    .dataframe tbody tr th:only-of-type {\n",
              "        vertical-align: middle;\n",
              "    }\n",
              "\n",
              "    .dataframe tbody tr th {\n",
              "        vertical-align: top;\n",
              "    }\n",
              "\n",
              "    .dataframe thead th {\n",
              "        text-align: right;\n",
              "    }\n",
              "</style>\n",
              "<table border=\"1\" class=\"dataframe\">\n",
              "  <thead>\n",
              "    <tr style=\"text-align: right;\">\n",
              "      <th></th>\n",
              "      <th>受付日</th>\n",
              "      <th>売上確定日時</th>\n",
              "      <th>名前</th>\n",
              "      <th>名前フリガナ</th>\n",
              "      <th>支払方法名</th>\n",
              "      <th>合計金額（税込み）</th>\n",
              "      <th>会社名・個人購入名</th>\n",
              "      <th>局名・所属部署</th>\n",
              "      <th>郵便番号</th>\n",
              "      <th>住所</th>\n",
              "      <th>電話番号</th>\n",
              "      <th>FAX</th>\n",
              "      <th>メールアドレス</th>\n",
              "      <th>customer id</th>\n",
              "      <th>order id</th>\n",
              "      <th>得意先コード</th>\n",
              "    </tr>\n",
              "  </thead>\n",
              "  <tbody>\n",
              "    <tr>\n",
              "      <th>0</th>\n",
              "      <td>2020/4/1 10:14</td>\n",
              "      <td>2020/4/2 0:00</td>\n",
              "      <td>宮崎 順一郎</td>\n",
              "      <td>ミヤザキ ジュンイチロウ</td>\n",
              "      <td>クレジットカード</td>\n",
              "      <td>3630</td>\n",
              "      <td>日本郵便オフィスサポート(株)　本社</td>\n",
              "      <td>経営企画本部</td>\n",
              "      <td>105-0012</td>\n",
              "      <td>東京都港区芝大門2-2-11</td>\n",
              "      <td>090-7817-4379</td>\n",
              "      <td>NaN</td>\n",
              "      <td>jmiyazaki@jpos.jp</td>\n",
              "      <td>10</td>\n",
              "      <td>0000000000000049</td>\n",
              "      <td>900160010</td>\n",
              "    </tr>\n",
              "    <tr>\n",
              "      <th>1</th>\n",
              "      <td>2020/4/1 10:51</td>\n",
              "      <td>2020/4/2 0:00</td>\n",
              "      <td>宮崎 順一郎</td>\n",
              "      <td>ミヤザキ ジュンイチロウ</td>\n",
              "      <td>ゆうちょ振替</td>\n",
              "      <td>1419</td>\n",
              "      <td>日本郵便オフィスサポート(株)　本社</td>\n",
              "      <td>経営企画本部</td>\n",
              "      <td>105-0012</td>\n",
              "      <td>東京都港区芝大門2-2-11</td>\n",
              "      <td>090-7817-4379</td>\n",
              "      <td>NaN</td>\n",
              "      <td>jmiyazaki@jpos.jp</td>\n",
              "      <td>10</td>\n",
              "      <td>0000000000000053</td>\n",
              "      <td>900160010</td>\n",
              "    </tr>\n",
              "  </tbody>\n",
              "</table>\n",
              "</div>"
            ],
            "text/plain": [
              "              受付日         売上確定日時  ...          order id     得意先コード\n",
              "0  2020/4/1 10:14  2020/4/2 0:00  ...  0000000000000049  900160010\n",
              "1  2020/4/1 10:51  2020/4/2 0:00  ...  0000000000000053  900160010\n",
              "\n",
              "[2 rows x 16 columns]"
            ]
          },
          "metadata": {
            "tags": []
          },
          "execution_count": 11
        }
      ]
    },
    {
      "cell_type": "code",
      "metadata": {
        "id": "c11mVuYTwCX5",
        "colab_type": "code",
        "outputId": "02c79bf9-b096-4bcf-a6e7-d56b24b7c146",
        "colab": {
          "base_uri": "https://localhost:8080/",
          "height": 205
        }
      },
      "source": [
        "xlsx = pd.read_excel(xlsxPath)\n",
        "xlsx.head()"
      ],
      "execution_count": 0,
      "outputs": [
        {
          "output_type": "execute_result",
          "data": {
            "text/html": [
              "<div>\n",
              "<style scoped>\n",
              "    .dataframe tbody tr th:only-of-type {\n",
              "        vertical-align: middle;\n",
              "    }\n",
              "\n",
              "    .dataframe tbody tr th {\n",
              "        vertical-align: top;\n",
              "    }\n",
              "\n",
              "    .dataframe thead th {\n",
              "        text-align: right;\n",
              "    }\n",
              "</style>\n",
              "<table border=\"1\" class=\"dataframe\">\n",
              "  <thead>\n",
              "    <tr style=\"text-align: right;\">\n",
              "      <th></th>\n",
              "      <th>受付日</th>\n",
              "      <th>売上確定日時</th>\n",
              "      <th>名前</th>\n",
              "      <th>名前フリガナ</th>\n",
              "      <th>支払方法名</th>\n",
              "      <th>合計金額（税込み）</th>\n",
              "      <th>会社名・個人購入名</th>\n",
              "      <th>局名・所属部署</th>\n",
              "      <th>郵便番号</th>\n",
              "      <th>住所</th>\n",
              "      <th>電話番号</th>\n",
              "      <th>FAX</th>\n",
              "      <th>メールアドレス</th>\n",
              "      <th>customer id</th>\n",
              "      <th>order id</th>\n",
              "      <th>得意先コード</th>\n",
              "    </tr>\n",
              "  </thead>\n",
              "  <tbody>\n",
              "    <tr>\n",
              "      <th>0</th>\n",
              "      <td>2020-04-01 10:14:47</td>\n",
              "      <td>2020-04-02</td>\n",
              "      <td>宮崎 順一郎</td>\n",
              "      <td>ミヤザキ ジュンイチロウ</td>\n",
              "      <td>クレジットカード</td>\n",
              "      <td>3630</td>\n",
              "      <td>日本郵便オフィスサポート(株)　本社</td>\n",
              "      <td>宮崎 順一郎</td>\n",
              "      <td>105 - 0012</td>\n",
              "      <td>東京都港区芝大門2-2-11泉芝大門ビル3階</td>\n",
              "      <td>090 - 7817 - 4379</td>\n",
              "      <td>NaN</td>\n",
              "      <td>jmiyazaki@jpos.jp</td>\n",
              "      <td>10</td>\n",
              "      <td>49</td>\n",
              "      <td>9001055766</td>\n",
              "    </tr>\n",
              "    <tr>\n",
              "      <th>1</th>\n",
              "      <td>2020-04-01 10:51:59</td>\n",
              "      <td>2020-04-02</td>\n",
              "      <td>宮崎 順一郎</td>\n",
              "      <td>ミヤザキ ジュンイチロウ</td>\n",
              "      <td>ゆうちょ振替</td>\n",
              "      <td>1419</td>\n",
              "      <td>日本郵便オフィスサポート(株)　本社</td>\n",
              "      <td>宮崎 順一郎</td>\n",
              "      <td>105 - 0012</td>\n",
              "      <td>東京都港区芝大門2-2-11泉芝大門ビル3階</td>\n",
              "      <td>090 - 7817 - 4379</td>\n",
              "      <td>NaN</td>\n",
              "      <td>jmiyazaki@jpos.jp</td>\n",
              "      <td>10</td>\n",
              "      <td>53</td>\n",
              "      <td>9001055766</td>\n",
              "    </tr>\n",
              "    <tr>\n",
              "      <th>2</th>\n",
              "      <td>2020-04-01 15:36:03</td>\n",
              "      <td>2020-04-02</td>\n",
              "      <td>野村 晴彦</td>\n",
              "      <td>ノムラ ハルヒコ</td>\n",
              "      <td>クレジットカード</td>\n",
              "      <td>3500</td>\n",
              "      <td>日本郵便オフィスサポート(株)　本社</td>\n",
              "      <td>野村 晴彦</td>\n",
              "      <td>105 - 0012</td>\n",
              "      <td>東京都港区芝大門2-2-11泉芝大門ビル3階</td>\n",
              "      <td>090 - 7817 - 4379</td>\n",
              "      <td>NaN</td>\n",
              "      <td>ha0423nomura@hotmail.co.jp</td>\n",
              "      <td>19</td>\n",
              "      <td>56</td>\n",
              "      <td>9001055767</td>\n",
              "    </tr>\n",
              "  </tbody>\n",
              "</table>\n",
              "</div>"
            ],
            "text/plain": [
              "                  受付日     売上確定日時      名前  ... customer id order id      得意先コード\n",
              "0 2020-04-01 10:14:47 2020-04-02  宮崎 順一郎  ...          10       49  9001055766\n",
              "1 2020-04-01 10:51:59 2020-04-02  宮崎 順一郎  ...          10       53  9001055766\n",
              "2 2020-04-01 15:36:03 2020-04-02   野村 晴彦  ...          19       56  9001055767\n",
              "\n",
              "[3 rows x 16 columns]"
            ]
          },
          "metadata": {
            "tags": []
          },
          "execution_count": 190
        }
      ]
    },
    {
      "cell_type": "code",
      "metadata": {
        "id": "M_ytTIGw1yF8",
        "colab_type": "code",
        "outputId": "97e1e4fa-c530-4345-dffa-e76970feaf83",
        "colab": {
          "base_uri": "https://localhost:8080/",
          "height": 350
        }
      },
      "source": [
        "xlsx.append(newCsv,ignore_index=True)"
      ],
      "execution_count": 0,
      "outputs": [
        {
          "output_type": "execute_result",
          "data": {
            "text/html": [
              "<div>\n",
              "<style scoped>\n",
              "    .dataframe tbody tr th:only-of-type {\n",
              "        vertical-align: middle;\n",
              "    }\n",
              "\n",
              "    .dataframe tbody tr th {\n",
              "        vertical-align: top;\n",
              "    }\n",
              "\n",
              "    .dataframe thead th {\n",
              "        text-align: right;\n",
              "    }\n",
              "</style>\n",
              "<table border=\"1\" class=\"dataframe\">\n",
              "  <thead>\n",
              "    <tr style=\"text-align: right;\">\n",
              "      <th></th>\n",
              "      <th>受付日</th>\n",
              "      <th>売上確定日時</th>\n",
              "      <th>名前</th>\n",
              "      <th>名前フリガナ</th>\n",
              "      <th>支払方法名</th>\n",
              "      <th>合計金額（税込み）</th>\n",
              "      <th>会社名・個人購入名</th>\n",
              "      <th>局名・所属部署</th>\n",
              "      <th>郵便番号</th>\n",
              "      <th>住所</th>\n",
              "      <th>電話番号</th>\n",
              "      <th>FAX</th>\n",
              "      <th>メールアドレス</th>\n",
              "      <th>customer id</th>\n",
              "      <th>order id</th>\n",
              "      <th>得意先コード</th>\n",
              "    </tr>\n",
              "  </thead>\n",
              "  <tbody>\n",
              "    <tr>\n",
              "      <th>0</th>\n",
              "      <td>2020-04-01 10:14:47</td>\n",
              "      <td>2020-04-02 00:00:00</td>\n",
              "      <td>宮崎 順一郎</td>\n",
              "      <td>ミヤザキ ジュンイチロウ</td>\n",
              "      <td>クレジットカード</td>\n",
              "      <td>3630</td>\n",
              "      <td>日本郵便オフィスサポート(株)　本社</td>\n",
              "      <td>宮崎 順一郎</td>\n",
              "      <td>105 - 0012</td>\n",
              "      <td>東京都港区芝大門2-2-11泉芝大門ビル3階</td>\n",
              "      <td>090 - 7817 - 4379</td>\n",
              "      <td>NaN</td>\n",
              "      <td>jmiyazaki@jpos.jp</td>\n",
              "      <td>10</td>\n",
              "      <td>49</td>\n",
              "      <td>9001055766</td>\n",
              "    </tr>\n",
              "    <tr>\n",
              "      <th>1</th>\n",
              "      <td>2020-04-01 10:51:59</td>\n",
              "      <td>2020-04-02 00:00:00</td>\n",
              "      <td>宮崎 順一郎</td>\n",
              "      <td>ミヤザキ ジュンイチロウ</td>\n",
              "      <td>ゆうちょ振替</td>\n",
              "      <td>1419</td>\n",
              "      <td>日本郵便オフィスサポート(株)　本社</td>\n",
              "      <td>宮崎 順一郎</td>\n",
              "      <td>105 - 0012</td>\n",
              "      <td>東京都港区芝大門2-2-11泉芝大門ビル3階</td>\n",
              "      <td>090 - 7817 - 4379</td>\n",
              "      <td>NaN</td>\n",
              "      <td>jmiyazaki@jpos.jp</td>\n",
              "      <td>10</td>\n",
              "      <td>53</td>\n",
              "      <td>9001055766</td>\n",
              "    </tr>\n",
              "    <tr>\n",
              "      <th>2</th>\n",
              "      <td>2020-04-01 15:36:03</td>\n",
              "      <td>2020-04-02 00:00:00</td>\n",
              "      <td>野村 晴彦</td>\n",
              "      <td>ノムラ ハルヒコ</td>\n",
              "      <td>クレジットカード</td>\n",
              "      <td>3500</td>\n",
              "      <td>日本郵便オフィスサポート(株)　本社</td>\n",
              "      <td>野村 晴彦</td>\n",
              "      <td>105 - 0012</td>\n",
              "      <td>東京都港区芝大門2-2-11泉芝大門ビル3階</td>\n",
              "      <td>090 - 7817 - 4379</td>\n",
              "      <td>NaN</td>\n",
              "      <td>ha0423nomura@hotmail.co.jp</td>\n",
              "      <td>19</td>\n",
              "      <td>56</td>\n",
              "      <td>9001055767</td>\n",
              "    </tr>\n",
              "    <tr>\n",
              "      <th>3</th>\n",
              "      <td>2020/4/1 10:14</td>\n",
              "      <td>2020/4/2 0:00</td>\n",
              "      <td>宮崎 順一郎</td>\n",
              "      <td>ミヤザキ ジュンイチロウ</td>\n",
              "      <td>クレジットカード</td>\n",
              "      <td>3630</td>\n",
              "      <td>日本郵便オフィスサポート(株)　本社</td>\n",
              "      <td>経営企画本部</td>\n",
              "      <td>105-0012</td>\n",
              "      <td>東京都港区芝大門2-2-11</td>\n",
              "      <td>90-7817-4379</td>\n",
              "      <td>NaN</td>\n",
              "      <td>jmiyazaki@jpos.jp</td>\n",
              "      <td>10</td>\n",
              "      <td>0000000000000049</td>\n",
              "      <td>900160010</td>\n",
              "    </tr>\n",
              "    <tr>\n",
              "      <th>4</th>\n",
              "      <td>2020/4/1 10:51</td>\n",
              "      <td>2020/4/2 0:00</td>\n",
              "      <td>宮崎 順一郎</td>\n",
              "      <td>ミヤザキ ジュンイチロウ</td>\n",
              "      <td>ゆうちょ振替</td>\n",
              "      <td>1419</td>\n",
              "      <td>日本郵便オフィスサポート(株)　本社</td>\n",
              "      <td>経営企画本部</td>\n",
              "      <td>105-0012</td>\n",
              "      <td>東京都港区芝大門2-2-11</td>\n",
              "      <td>90-7817-4379</td>\n",
              "      <td>NaN</td>\n",
              "      <td>jmiyazaki@jpos.jp</td>\n",
              "      <td>10</td>\n",
              "      <td>0000000000000053</td>\n",
              "      <td>900160010</td>\n",
              "    </tr>\n",
              "  </tbody>\n",
              "</table>\n",
              "</div>"
            ],
            "text/plain": [
              "                   受付日               売上確定日時  ...          order id      得意先コード\n",
              "0  2020-04-01 10:14:47  2020-04-02 00:00:00  ...                49  9001055766\n",
              "1  2020-04-01 10:51:59  2020-04-02 00:00:00  ...                53  9001055766\n",
              "2  2020-04-01 15:36:03  2020-04-02 00:00:00  ...                56  9001055767\n",
              "3       2020/4/1 10:14        2020/4/2 0:00  ...  0000000000000049   900160010\n",
              "4       2020/4/1 10:51        2020/4/2 0:00  ...  0000000000000053   900160010\n",
              "\n",
              "[5 rows x 16 columns]"
            ]
          },
          "metadata": {
            "tags": []
          },
          "execution_count": 191
        }
      ]
    },
    {
      "cell_type": "code",
      "metadata": {
        "id": "yOT5GdAq14k2",
        "colab_type": "code",
        "outputId": "d2af98a9-3975-418e-f5cb-c1c9110f5e4e",
        "colab": {
          "base_uri": "https://localhost:8080/",
          "height": 34
        }
      },
      "source": [
        "today = date1 = datetime.datetime.now()\n",
        "xlsxFileName = \"ECサイト受注情報-\"+str(today) + '.xlsx'\n",
        "xlsxWritePath = xlsxPath1 + xlsxFileName\n",
        "print(xlsxWritePath)"
      ],
      "execution_count": 12,
      "outputs": [
        {
          "output_type": "stream",
          "text": [
            "/content/drive/My Drive/ec orange/ECサイト受注情報-2020-05-18 14:05:24.948071.xlsx\n"
          ],
          "name": "stdout"
        }
      ]
    },
    {
      "cell_type": "code",
      "metadata": {
        "id": "PtDtx-QuD5bH",
        "colab_type": "code",
        "colab": {}
      },
      "source": [
        "newCsv.to_excel(xlsxWritePath, sheet_name='new_orders')"
      ],
      "execution_count": 0,
      "outputs": []
    },
    {
      "cell_type": "code",
      "metadata": {
        "id": "bAF26-xQEf8p",
        "colab_type": "code",
        "colab": {}
      },
      "source": [
        ""
      ],
      "execution_count": 0,
      "outputs": []
    }
  ]
}