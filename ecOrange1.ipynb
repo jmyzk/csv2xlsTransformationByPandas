{
  "nbformat": 4,
  "nbformat_minor": 0,
  "metadata": {
    "colab": {
      "name": "ecOrange1.ipynb",
      "provenance": [],
      "collapsed_sections": [],
      "toc_visible": true,
      "mount_file_id": "1QZSVoLiTSkbBwyMpRQx5FyxeCE9jF98m",
      "authorship_tag": "ABX9TyPoNJ1oPlc/fS6GsyNUpJMD",
      "include_colab_link": true
    },
    "kernelspec": {
      "name": "python3",
      "display_name": "Python 3"
    }
  },
  "cells": [
    {
      "cell_type": "markdown",
      "metadata": {
        "id": "view-in-github",
        "colab_type": "text"
      },
      "source": [
        "<a href=\"https://colab.research.google.com/github/jmyzk/csv2xlsTransformationByPandas/blob/master/ecOrange1.ipynb\" target=\"_parent\"><img src=\"https://colab.research.google.com/assets/colab-badge.svg\" alt=\"Open In Colab\"/></a>"
      ]
    },
    {
      "cell_type": "markdown",
      "metadata": {
        "id": "QfMJ9JY-uDML",
        "colab_type": "text"
      },
      "source": [
        "### ECサイト受注情報.xlsx & EC Orange 受注情報 csvの取り込み"
      ]
    },
    {
      "cell_type": "code",
      "metadata": {
        "id": "S-eRsdtFutrJ",
        "colab_type": "code",
        "colab": {}
      },
      "source": [
        "import pandas as pd\n",
        "import numpy as np\n",
        "import datetime"
      ],
      "execution_count": 0,
      "outputs": []
    },
    {
      "cell_type": "code",
      "metadata": {
        "id": "6TX993Kftegq",
        "colab_type": "code",
        "colab": {}
      },
      "source": [
        "csvPath = \"/content/drive/My Drive/ec orange/【ECオレンジからの注文情報ダウンロードCSV】20200415134816order.csv\"\n",
        "xlsxPath = \"/content/drive/My Drive/ec orange/ECサイト 受注情報_自動化検証用.xlsx\"\n",
        "xlsxPath1 = \"/content/drive/My Drive/ec orange/\""
      ],
      "execution_count": 0,
      "outputs": []
    },
    {
      "cell_type": "code",
      "metadata": {
        "id": "ZsZ17Vdl-kEn",
        "colab_type": "code",
        "colab": {}
      },
      "source": [
        "oldCsv = pd.read_csv(csvPath,engine=\"python\",encoding=\"Shift-JIS\")"
      ],
      "execution_count": 0,
      "outputs": []
    },
    {
      "cell_type": "code",
      "metadata": {
        "id": "r0fckBydxSNX",
        "colab_type": "code",
        "colab": {}
      },
      "source": [
        "prefec ={\"1\" : \"北海道\",\n",
        "\"2\" : \"青森県\",\n",
        "\"3\" : \"岩手県\",\n",
        "\"4\" : \"宮城県\",\n",
        "\"5\" : \"秋田県\",\n",
        "\"6\" : \"山形県\",\n",
        "\"7\" : \"福島県\",\n",
        "\"8\" : \"茨城県\",\n",
        "\"9\" : \"栃木県\",\n",
        "\"10\" : \"群馬県\",\n",
        "\"11\" : \"埼玉県\",\n",
        "\"12\" : \"千葉県\",\n",
        "\"13\" : \"東京都\",\n",
        "\"14\" : \"神奈川県\",\n",
        "\"15\" : \"新潟県\",\n",
        "\"16\" : \"富山県\",\n",
        "\"17\" : \"石川県\",\n",
        "\"18\" : \"福井県\",\n",
        "\"19\" : \"山梨県\",\n",
        "\"20\" : \"長野県\",\n",
        "\"21\" : \"岐阜県\",\n",
        "\"22\" : \"静岡県\",\n",
        "\"23\" : \"愛知県\",\n",
        "\"24\" : \"三重県\",\n",
        "\"25\" : \"滋賀県\",\n",
        "\"26\" : \"京都府\",\n",
        "\"27\" : \"大阪府\",\n",
        "\"28\" : \"兵庫県\",\n",
        "\"29\" : \"奈良県\",\n",
        "\"30\" : \"和歌山県\",\n",
        "\"31\" : \"鳥取県\",\n",
        "\"32\" : \"島根県\",\n",
        "\"33\" : \"岡山県\",\n",
        "\"34\" : \"広島県\",\n",
        "\"35\" : \"山口県\",\n",
        "\"36\" : \"徳島県\",\n",
        "\"37\" : \"香川県\",\n",
        "\"38\" : \"愛媛県\",\n",
        "\"39\" : \"高知県\",\n",
        "\"40\" : \"福岡県\",\n",
        "\"41\" : \"佐賀県\",\n",
        "\"42\" : \"長崎県\",\n",
        "\"43\" : \"熊本県\",\n",
        "\"44\" : \"大分県\",\n",
        "\"45\" : \"宮崎県\",\n",
        "\"46\" : \"鹿児島県\",\n",
        "\"47\" : \"沖縄県\"}"
      ],
      "execution_count": 0,
      "outputs": []
    },
    {
      "cell_type": "code",
      "metadata": {
        "id": "A9vMZejP-YFp",
        "colab_type": "code",
        "colab": {}
      },
      "source": [
        "oldCsv['order_shipping_fullname']=oldCsv['order_shipping_last_name']+\" \"+oldCsv['order_shipping_first_name']\n",
        "oldCsv['order_shipping_fullname_kana']=oldCsv['order_customer_last_name_kana']+\" \"+oldCsv['order_customer_first_name_kana']\n",
        "oldCsv['order_shipping_zip00']=oldCsv['order_shipping_zip01'].map(str).apply(lambda x: x.zfill(3)) + \"-\" + oldCsv['order_shipping_zip02'].map(str).apply(lambda x: x.zfill(4))\n",
        "oldCsv['order_shipping_address']=oldCsv['order_shipping_pref'].map(str).apply(lambda x: prefec[x])+oldCsv['order_shipping_city']\n",
        "oldCsv['order_shipping_address']=oldCsv['order_shipping_pref'].map(str).apply(lambda x: prefec[x])+oldCsv['order_shipping_city']\n",
        "oldCsv['order_customer_tel00']=\"0\" + oldCsv['order_customer_tel01'].map(str) + \"-\" + oldCsv['order_customer_tel02'].map(str)+ \"-\" + oldCsv['order_customer_tel03'].map(str)\n",
        "oldCsv['order_customer_fax00']= np.NaN\n",
        "oldCsv['order_id'] = oldCsv['order_id'].map(str).apply(lambda x: x.zfill(16))\n",
        "oldCsv['n-pos_customer_id']=900160000 + +oldCsv['customer_id']\n"
      ],
      "execution_count": 0,
      "outputs": []
    },
    {
      "cell_type": "code",
      "metadata": {
        "id": "mK2xLqPY-vZV",
        "colab_type": "code",
        "colab": {}
      },
      "source": [
        "newColumns = ['order_contracted_at','order_finalized_at','order_shipping_fullname','order_shipping_fullname_kana','order_payment_method','order_item_sales_price_taxed', \n",
        "              'order_customer_locality','order_customer_other','order_shipping_zip00','order_shipping_address',\n",
        "              'order_customer_tel00','order_customer_fax00' ,'order_customer_email','customer_id','order_id','n-pos_customer_id']"
      ],
      "execution_count": 0,
      "outputs": []
    },
    {
      "cell_type": "code",
      "metadata": {
        "id": "Idf0ZNPA4KcV",
        "colab_type": "code",
        "colab": {}
      },
      "source": [
        "newColumnsJ = [\"受付日\",\"売上確定日時\",\"名前\",\"名前フリガナ\",\"支払方法名\",\"合計金額（税込み）\",\n",
        "               \"会社名・個人購入名\",\"局名・所属部署\",\"郵便番号\",\"住所\",\n",
        "               \"電話番号\",\"FAX\",\"メールアドレス\",\"customer id\",\"order id\",\"得意先コード\"]"
      ],
      "execution_count": 0,
      "outputs": []
    },
    {
      "cell_type": "code",
      "metadata": {
        "id": "NV_j4MVE7x6X",
        "colab_type": "code",
        "colab": {}
      },
      "source": [
        "newCsv = oldCsv[newColumns]\n",
        "newCsv.head()"
      ],
      "execution_count": 0,
      "outputs": []
    },
    {
      "cell_type": "code",
      "metadata": {
        "id": "BXKcMpc06HjE",
        "colab_type": "code",
        "colab": {}
      },
      "source": [
        "newCsv.columns = newColumnsJ"
      ],
      "execution_count": 0,
      "outputs": []
    },
    {
      "cell_type": "code",
      "metadata": {
        "id": "zoG1MLck9JMe",
        "colab_type": "code",
        "colab": {}
      },
      "source": [
        "newCsv.head()"
      ],
      "execution_count": 0,
      "outputs": []
    },
    {
      "cell_type": "code",
      "metadata": {
        "id": "c11mVuYTwCX5",
        "colab_type": "code",
        "colab": {}
      },
      "source": [
        "xlsx = pd.read_excel(xlsxPath)\n",
        "xlsx.head()"
      ],
      "execution_count": 0,
      "outputs": []
    },
    {
      "cell_type": "code",
      "metadata": {
        "id": "M_ytTIGw1yF8",
        "colab_type": "code",
        "colab": {}
      },
      "source": [
        "xlsx.append(newCsv,ignore_index=True)"
      ],
      "execution_count": 0,
      "outputs": []
    },
    {
      "cell_type": "code",
      "metadata": {
        "id": "yOT5GdAq14k2",
        "colab_type": "code",
        "colab": {}
      },
      "source": [
        "today = date1 = datetime.datetime.now()\n",
        "xlsxFileName = \"ECサイト受注情報-\"+str(today) + '.xlsx'\n",
        "xlsxWritePath = xlsxPath1 + xlsxFileName\n",
        "print(xlsxWritePath)"
      ],
      "execution_count": 0,
      "outputs": []
    },
    {
      "cell_type": "code",
      "metadata": {
        "id": "PtDtx-QuD5bH",
        "colab_type": "code",
        "colab": {}
      },
      "source": [
        "newCsv.to_excel(xlsxWritePath, sheet_name='new_orders')"
      ],
      "execution_count": 0,
      "outputs": []
    },
    {
      "cell_type": "code",
      "metadata": {
        "id": "bAF26-xQEf8p",
        "colab_type": "code",
        "colab": {}
      },
      "source": [
        ""
      ],
      "execution_count": 0,
      "outputs": []
    }
  ]
}